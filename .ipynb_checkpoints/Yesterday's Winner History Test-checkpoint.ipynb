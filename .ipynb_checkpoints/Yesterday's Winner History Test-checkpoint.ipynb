{
 "cells": [
  {
   "cell_type": "code",
   "execution_count": 12,
   "metadata": {},
   "outputs": [],
   "source": [
    "#Testing the yesterdays winner startegy over historic data creating csv files.\n",
    "import numpy as np\n",
    "import time\n",
    "import csv\n",
    "import re\n",
    "\n",
    "\n",
    "\n",
    "\n",
    "\n"
   ]
  },
  {
   "cell_type": "code",
   "execution_count": 13,
   "metadata": {},
   "outputs": [],
   "source": [
    "def Winner(*args):\n",
    "    \n",
    "    #Takes in a collections of CSV files and returns a list for each trading day, on each day it will leave the close value of the best performing and 0 otherwise.\n",
    "    #It also provides a list of all closes. This will be needed later, so it is more optimal to take a copy of them now, then recall the csvs later.\n",
    "    I=[]\n",
    "    C=[]\n",
    "    for arg in args:\n",
    "        Doc=open(arg,\"r\")\n",
    "        values=csv.reader(Doc)\n",
    "        DayChange=[]\n",
    "        Close=[]\n",
    "        for row in values:\n",
    "    \n",
    "            if re.match('^[0-9\\.]*$',row[4]) and re.match('^[0-9\\.]*$',row[1]):\n",
    "                DayChange.append(float(row[4])/float(row[1]))\n",
    "                Close.append(float(row[4]))\n",
    "        I.append(DayChange)\n",
    "        C.append(Close)\n",
    "        \n",
    "    Closes=[0]*len(I[0])\n",
    "    for i in range(len(I[0])-1):\n",
    "        Cha=[0]*len(args)\n",
    "        for j in range(len(args)):\n",
    "            Cha[j]=C[j][i]\n",
    "        Closes[i]=Cha\n",
    "        \n",
    "        \n",
    "    Port=[0]*len(I[0])\n",
    "    for i in range(len(I[0])-1):\n",
    "        M=float(\"-inf\")\n",
    "        Values=[0]*len(args)\n",
    "        for j in range(len(args)):\n",
    "            \n",
    "            if I[j][i]>M:\n",
    "                M=I[j][i]\n",
    "                J=j\n",
    "        Values[J]=C[J][i]\n",
    "        Port[i]=Values\n",
    "        \n",
    "    \n",
    "    return [Port,Closes]"
   ]
  },
  {
   "cell_type": "code",
   "execution_count": 14,
   "metadata": {},
   "outputs": [],
   "source": [
    "def Portfollio(Cash,*args):\n",
    "    #This takes a starting value of cash and csv files and produces the \"yesterdays winner strategy\" to produce the portfollios it would have produced and tracks the cash value.\n",
    "    W=Winner(*args)[0]\n",
    "    N=len(W)\n",
    "    DayHold=[0]*len(args)\n",
    "    P=[]\n",
    "    for j in range(len(W[0])):\n",
    "        if W[0][j]!=0:\n",
    "            DayHold[j]=Cash/W[0][j]\n",
    "            \n",
    "    P.append(DayHold)\n",
    "    \n",
    "    Closes=Winner(*args)[1]\n",
    "    C=[Cash]\n",
    "    for i in range(1,N-1):\n",
    "    \n",
    "        Cash=np.dot(Closes[i],P[i-1])\n",
    "        DayHold=[0]*len(args)\n",
    "        C.append(Cash)\n",
    "        for j in range(len(W[i])):\n",
    "            if W[i][j]!=0:\n",
    "                DayHold[j]=Cash/W[i][j]\n",
    "        P.append(DayHold)\n",
    "    return [P,C]"
   ]
  },
  {
   "cell_type": "code",
   "execution_count": 27,
   "metadata": {},
   "outputs": [],
   "source": [
    "def YWTest(Name,Histories,Cash):\n",
    "    Doc=\"D:\\My Documents\\GitHub\\Elementary-Finance\\Yesterdays Winner Tests\\\\\"\n",
    "    Doc+=Name\n",
    "    Doc+=\".csv\"\n",
    "    w=open(Doc, \"w\")\n",
    "    writeFile=csv.writer(w)\n",
    "    A=Portfollio(Cash,*Histories)\n",
    "    P=A[0]\n",
    "    Cash=A[1]\n",
    "    for i in range(len(P)):\n",
    "        P[i].append(Cash[i])\n",
    "    \n",
    "        writeFile.writerow(P[i])\n",
    "    \n",
    "    "
   ]
  },
  {
   "cell_type": "code",
   "execution_count": 55,
   "metadata": {},
   "outputs": [],
   "source": [
    "Histories1=[\"D:\\My Documents\\GitHub\\Elementary-Finance\\csvs\\8-5-19\\BARC.csv\",\"D:\\My Documents\\GitHub\\Elementary-Finance\\csvs\\8-5-19\\HSBC.csv\",\"D:\\My Documents\\GitHub\\Elementary-Finance\\csvs\\8-5-19\\LLOY.csv\",\"D:\\My Documents\\GitHub\\Elementary-Finance\\csvs\\8-5-19\\RBS.csv\"]"
   ]
  },
  {
   "cell_type": "code",
   "execution_count": 56,
   "metadata": {},
   "outputs": [],
   "source": [
    "YWTest(\"Barc,HSBC,LLo,RBS\",Histories1,100)"
   ]
  },
  {
   "cell_type": "code",
   "execution_count": 57,
   "metadata": {},
   "outputs": [],
   "source": [
    "Histories2=[\"D:\\My Documents\\GitHub\\Elementary-Finance\\csvs\\9-5-19\\BATS.L.csv\",\"D:\\My Documents\\GitHub\\Elementary-Finance\\csvs\\9-5-19\\BP.L.csv\",\"D:\\My Documents\\GitHub\\Elementary-Finance\\csvs\\9-5-19\\HL.L.csv\",\"D:\\My Documents\\GitHub\\Elementary-Finance\\csvs\\9-5-19\\MKS.L.csv\"]"
   ]
  },
  {
   "cell_type": "code",
   "execution_count": 58,
   "metadata": {},
   "outputs": [],
   "source": [
    "YWTest(\"BAT,BP,HL,MKS\",Histories2,100)"
   ]
  },
  {
   "cell_type": "code",
   "execution_count": 59,
   "metadata": {},
   "outputs": [],
   "source": [
    "Histories3=[\"D:\\My Documents\\GitHub\\Elementary-Finance\\csvs\\8-5-19\\BARC.csv\",\"D:\\My Documents\\GitHub\\Elementary-Finance\\csvs\\8-5-19\\HSBC.csv\",\"D:\\My Documents\\GitHub\\Elementary-Finance\\csvs\\8-5-19\\LLOY.csv\",\"D:\\My Documents\\GitHub\\Elementary-Finance\\csvs\\8-5-19\\RBS.csv\",\"D:\\My Documents\\GitHub\\Elementary-Finance\\csvs\\9-5-19\\BATS.L.csv\",\"D:\\My Documents\\GitHub\\Elementary-Finance\\csvs\\9-5-19\\BP.L.csv\",\"D:\\My Documents\\GitHub\\Elementary-Finance\\csvs\\9-5-19\\HL.L.csv\",\"D:\\My Documents\\GitHub\\Elementary-Finance\\csvs\\9-5-19\\MKS.L.csv\"]"
   ]
  },
  {
   "cell_type": "code",
   "execution_count": 60,
   "metadata": {},
   "outputs": [],
   "source": [
    "YWTest(\"BAT,BP,HL,MKS,Big4\",Histories3,100)"
   ]
  },
  {
   "cell_type": "code",
   "execution_count": 61,
   "metadata": {},
   "outputs": [],
   "source": [
    "Histories4=[\"D:\\My Documents\\GitHub\\Elementary-Finance\\csvs\\9-5-19\\SBRY.L.csv\",\"D:\\My Documents\\GitHub\\Elementary-Finance\\csvs\\9-5-19\\TSCO.L.csv\"]"
   ]
  },
  {
   "cell_type": "code",
   "execution_count": 62,
   "metadata": {},
   "outputs": [],
   "source": [
    "YWTest(\"SBRY,TSCO\",Histories4,100)"
   ]
  }
 ],
 "metadata": {
  "kernelspec": {
   "display_name": "Python 3",
   "language": "python",
   "name": "python3"
  },
  "language_info": {
   "codemirror_mode": {
    "name": "ipython",
    "version": 3
   },
   "file_extension": ".py",
   "mimetype": "text/x-python",
   "name": "python",
   "nbconvert_exporter": "python",
   "pygments_lexer": "ipython3",
   "version": "3.7.1"
  }
 },
 "nbformat": 4,
 "nbformat_minor": 2
}
