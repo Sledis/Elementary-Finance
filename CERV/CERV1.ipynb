{
 "cells": [
  {
   "cell_type": "code",
   "execution_count": 1,
   "metadata": {},
   "outputs": [],
   "source": [
    "#This caclulates portfollios to reblanace once a day based on the CER model. It will run on several \n",
    "#portfollios with a starting cash value of 10000p and the data will be stored at \n",
    "#https://docs.google.com/spreadsheets/d/1V4-ibttRKCvFJyOrqVu6AIjGC0FWr7Qb8kB0lq6e7tk/edit#gid=1370185696\n",
    "\n",
    "#At 6pm each day this code will initialize, checking if the following day is a trading day.\n",
    "#if it is, it will use historical data to calculate the CER portfollio and how much it's portfollio is worth at the close\n",
    "#of today.\n",
    "\n",
    "#it assumes you buy that portfollio at the open tomorrow morning after instantly selling your current portfollio at open.\n",
    "\n",
    "#assumptions\n",
    "#no dividends\n",
    "#no trading fees\n",
    "#open and close prices are the same and instant trade is possible\n",
    "#there is no riskless interest rate (to be added into another program.)\n",
    "import numpy as np\n",
    "import sys\n",
    "import re\n",
    "\n",
    "\n",
    "sys.path.insert(0, '/Users/sam_e/Trading Programs')\n",
    "import DataCollector as DC\n",
    "from FinancialStats import Sigma\n",
    "from FinancialStats import Means\n",
    "from HolidayLogic import BanksOpen\n",
    "from HolidayLogic import UK2019\n",
    "import datetime\n",
    "\n",
    "\n",
    "import gspread\n",
    "from oauth2client.service_account import ServiceAccountCredentials\n",
    "import json\n",
    "\n",
    "\n",
    "def MinPort(Exp,*args):\n",
    "    #This takes an expected target and a colleciton of historical price lists and uses the CER model to produce a portfollio\n",
    "    #from the given stocks with that expected return and minimum variance.\n",
    "    l=len(args)\n",
    "    b=np.zeros(l+2)\n",
    "    Mean=Means(*args)\n",
    "    print(Mean)\n",
    "    Sig=Sigma(*args)\n",
    "\n",
    "    #We define the vector b as given by page 12 of http://faculty.washington.edu/ezivot/econ424/portfolioTheoryMatrix.pdf\n",
    "    b[l]=Exp\n",
    "    b[l+1]=1\n",
    "\n",
    "    #We now define the A matrix\n",
    "    A=np.zeros((l+2,l+2))\n",
    "    for i in range(l):\n",
    "        for j in range(l):\n",
    "            A[i,j]=2*Sig[i,j]\n",
    "\n",
    "    for i in range(l):\n",
    "        A[l,i]=Mean[i]\n",
    "        A[i,l]=Mean[i]\n",
    "        A[l+1,i]=1\n",
    "        A[i,l+1]=1\n",
    "    \n",
    "   \n",
    "    Port=np.dot(np.linalg.inv(A),b)[:l]\n",
    "    ER=np.dot(Port,Mean)\n",
    "    Var=np.dot(Port,np.dot(Sig,Port))\n",
    "   \n",
    "    print(\"Expected return is\", ER, \"with variance\", Var)\n",
    "    return Port\n",
    "   "
   ]
  },
  {
   "cell_type": "code",
   "execution_count": 2,
   "metadata": {},
   "outputs": [],
   "source": [
    "#We will need a function that can take our current portfollio and evaluate it's value.\n",
    "def PortValue(*args):\n",
    "    #This function returns the current value of all holdings.\n",
    "    P=DC.PsFromURL(*args)\n",
    "    \n",
    "    ValueVec=np.ones(len(args)+1)\n",
    "   \n",
    "    for i in range(len(args)):\n",
    "        ValueVec[i]=P[i]\n",
    "    \n",
    "    col_len = len(ws.col_values(1))\n",
    "    vect=np.array(ws.row_values(col_len)[1:len(args)+2])\n",
    "    \n",
    "    Amount=[float(i) for i in vect]\n",
    "    \n",
    "    Cash=np.dot(ValueVec,Amount)\n",
    "    return Cash"
   ]
  },
  {
   "cell_type": "code",
   "execution_count": 3,
   "metadata": {},
   "outputs": [],
   "source": [
    "#We now combine these to update the spreadsheet\n",
    "\n",
    "def SheetUpdate(Exp,*args):\n",
    "    #We first start by checking that tomorrow's values haven't already been caluclated. As this is a one trade per day strat.\n",
    "    #Otherwise it will just add another row to the spreadsheet.\n",
    "    col_len = len(ws.col_values(1))\n",
    "    tomorrow =  datetime.date.today() + datetime.timedelta(days=1)\n",
    "    l=len(args)\n",
    "    \n",
    "    if ws.cell(col_len,1).value==tomorrow.strftime(\"%d/%m/%Y\"):\n",
    "        #If tomorrows value has already been calculated, delete it and recalculate\n",
    "        #This allows, for example, us to test during the day and then when it properly evaluates at the end of the day,\n",
    "        #it will over-write our test (incorrect data).\n",
    "        ws.delete_row(col_len)\n",
    "        col_len = len(ws.col_values(1))\n",
    "\n",
    "        \n",
    "    if BanksOpen(UK2019,tomorrow)==1:      \n",
    "        \n",
    "\n",
    "        ValueAtClose=PortValue(*args)\n",
    "        CurrentPrice=DC.PsFromURL(*args)\n",
    "        #First we calculate how much money we currently have\n",
    "        \n",
    "        Histories=DC.HistoriesFromURL(*args)\n",
    "        Returns=DC.PricesToReturns(*Histories)\n",
    "        A=MinPort(Exp,*Returns)\n",
    "        #here we have calculated the portfollio that we should buy at the begining of trading the next day, and the value that \n",
    "        #We get from selling our current portfollio.\n",
    "        \n",
    "        #Each element in A only tells us what percentage of our portfollio should go on each stock.\n",
    "        C=np.zeros(l)\n",
    "        for i in range(l):\n",
    "            C[i]=ValueAtClose*A[i]/CurrentPrice[i]\n",
    "        \n",
    "        \n",
    "        \n",
    "        ws.update_cell(col_len,l+3,ValueAtClose)\n",
    "    \n",
    "\n",
    "        \n",
    "        B = [tomorrow.strftime(\"%d/%m/%Y\")]\n",
    "        B.extend(C)\n",
    "        B.extend([0])\n",
    "        ws.insert_row(B, col_len+1)"
   ]
  },
  {
   "cell_type": "code",
   "execution_count": 4,
   "metadata": {},
   "outputs": [],
   "source": [
    "#We now intialize the spreadsheet and start buldining naively portfollios to see how it will trade them in the coming months.\n",
    "scope = ['https://spreadsheets.google.com/feeds','https://www.googleapis.com/auth/drive']\n",
    "creds = ServiceAccountCredentials.from_json_keyfile_name('client_secret.json', scope)\n",
    "client = gspread.authorize(creds)\n",
    "\n",
    "ss = client.open('CERV1')\n"
   ]
  },
  {
   "cell_type": "code",
   "execution_count": 5,
   "metadata": {},
   "outputs": [
    {
     "name": "stderr",
     "output_type": "stream",
     "text": [
      "/Users/sam_e/Trading Programs\\DataCollector.py:20: UserWarning: No parser was explicitly specified, so I'm using the best available HTML parser for this system (\"lxml\"). This usually isn't a problem, but if you run this code on another system, or in a different virtual environment, it may use a different parser and behave differently.\n",
      "\n",
      "The code that caused this warning is on line 20 of the file /Users/sam_e/Trading Programs\\DataCollector.py. To get rid of this warning, pass the additional argument 'features=\"lxml\"' to the BeautifulSoup constructor.\n",
      "\n",
      "  soup=BeautifulSoup(c)\n"
     ]
    },
    {
     "name": "stdout",
     "output_type": "stream",
     "text": [
      "[2.98954481e-04 2.47535195e-05 1.69937656e-03 2.10759536e-03]\n",
      "Expected return is 0.010000000000000002 with variance 0.0026386770841179998\n"
     ]
    }
   ],
   "source": [
    "#Big4\n",
    "Barc=['https://uk.finance.yahoo.com/quote/BCS?p=BCS.L','p']\n",
    "HSBC=['https://uk.finance.yahoo.com/quote/HSBA.L?p=HSBA.L','p']\n",
    "Llo=['https://uk.finance.yahoo.com/quote/LLOY.L?p=LLOY.L','p']\n",
    "RBS=['https://uk.finance.yahoo.com/quote/RBS?p=RBS.L','p']\n",
    "Big4=[Barc,HSBC,Llo,RBS]\n",
    "ws = ss.worksheet(\"Big4\")\n",
    "SheetUpdate(0.01,*Big4)"
   ]
  },
  {
   "cell_type": "code",
   "execution_count": 6,
   "metadata": {},
   "outputs": [
    {
     "name": "stdout",
     "output_type": "stream",
     "text": [
      "[-0.00052387  0.00252086  0.00251804 -0.00162585]\n",
      "Expected return is 0.12000000000000001 with variance 0.23419174384811814\n"
     ]
    }
   ],
   "source": [
    "#Chens\n",
    "ITV=[\"https://uk.finance.yahoo.com/quote/ITV.L?p=ITV.L\",'p']\n",
    "JustEat=[\"https://uk.finance.yahoo.com/quote/JE.L?p=JE.L\",'p']\n",
    "Tesco=[\"https://uk.finance.yahoo.com/quote/TSCO.L?p=TSCO.L\",'p']\n",
    "Vodafone=[\"https://uk.finance.yahoo.com/quote/VOD.L?p=VOD.L\",'p']\n",
    "chen=[ITV,JustEat,Tesco,Vodafone]\n",
    "ws=ss.worksheet(\"Chen\")\n",
    "SheetUpdate(0.12,*chen)"
   ]
  },
  {
   "cell_type": "code",
   "execution_count": 7,
   "metadata": {},
   "outputs": [
    {
     "name": "stdout",
     "output_type": "stream",
     "text": [
      "[ 0.00091708 -0.0030903  -0.00064322  0.00063257]\n",
      "Expected return is 0.03 with variance 0.03539134176733735\n"
     ]
    }
   ],
   "source": [
    "#Sams\n",
    "BP=[\"https://uk.finance.yahoo.com/quote/BP.L?p=BP.L\",'p']\n",
    "Sainsbury=[\"https://uk.finance.yahoo.com/quote/SBRY.L?p=SBRY.L\",'p']\n",
    "MS=[\"https://uk.finance.yahoo.com/quote/MKS.L?p=MKS.L\",'p']\n",
    "Uni=[\"https://uk.finance.yahoo.com/quote/ULVR.L?p=ULVR.L\",'p']\n",
    "sam=[BP,Sainsbury,MS,Uni]\n",
    "ws=ss.worksheet(\"Sam\")\n",
    "SheetUpdate(0.03,*sam)"
   ]
  },
  {
   "cell_type": "code",
   "execution_count": 8,
   "metadata": {},
   "outputs": [
    {
     "name": "stdout",
     "output_type": "stream",
     "text": [
      "[-0.0029471   0.00114191]\n",
      "Expected return is 0.045 with variance 0.11085900993717694\n"
     ]
    }
   ],
   "source": [
    "#James\n",
    "Tobacco=['https://uk.finance.yahoo.com/quote/BATS.L?p=BATS.L',\"p\"]\n",
    "james=[Sainsbury,Tobacco]\n",
    "ws=ss.worksheet(\"James\")\n",
    "SheetUpdate(0.045,*james)"
   ]
  }
 ],
 "metadata": {
  "kernelspec": {
   "display_name": "Python 3",
   "language": "python",
   "name": "python3"
  },
  "language_info": {
   "codemirror_mode": {
    "name": "ipython",
    "version": 3
   },
   "file_extension": ".py",
   "mimetype": "text/x-python",
   "name": "python",
   "nbconvert_exporter": "python",
   "pygments_lexer": "ipython3",
   "version": "3.7.1"
  }
 },
 "nbformat": 4,
 "nbformat_minor": 2
}
