{
 "cells": [
  {
   "cell_type": "code",
   "execution_count": 8,
   "metadata": {},
   "outputs": [],
   "source": [
    "#This is a collection of functions that deal with determining if banks are open.\n",
    "import datetime\n",
    "\n",
    "#Collection of bankholidays\n",
    "UK2019=[\"01/01/2019\",\"17/03/2019\",\"19/04/2019\",\"22/04/2019\",\"06/05/2019\",\"27/05/2019\",\"12/07/2019\",\"26/08/2019\",\"25/12/2019\",\"26/12/2019\"]\n",
    "#The UK bank holidays for 2019.\n",
    "def BanksOpen(B,Date):\n",
    "    #This program determines if banks in a country are open to trade in 2019.\n",
    "    # It returns 0 if banks are closed tomorrow. And 1 if they are open.\n",
    "    #It does this by checking if tomorrow is a weekend or a bank holiday.\n",
    "    if Date.strftime(\"%Y\")=='2019':\n",
    "\n",
    "        d1 = Date.strftime(\"%d/%m/%Y\")\n",
    "        wkday=Date.weekday()\n",
    "        \n",
    "        if wkday in [5,6]:\n",
    "            return 0\n",
    "        elif d1 in B:\n",
    "            return 0\n",
    "        else:\n",
    "            return 1\n",
    "    else:\n",
    "        return print(\"This code is only available during 2019, until the bankholiday data has been updated.\")\n"
   ]
  },
  {
   "cell_type": "code",
   "execution_count": null,
   "metadata": {},
   "outputs": [],
   "source": []
  }
 ],
 "metadata": {
  "kernelspec": {
   "display_name": "Python 3",
   "language": "python",
   "name": "python3"
  },
  "language_info": {
   "codemirror_mode": {
    "name": "ipython",
    "version": 3
   },
   "file_extension": ".py",
   "mimetype": "text/x-python",
   "name": "python",
   "nbconvert_exporter": "python",
   "pygments_lexer": "ipython3",
   "version": "3.7.1"
  }
 },
 "nbformat": 4,
 "nbformat_minor": 2
}
