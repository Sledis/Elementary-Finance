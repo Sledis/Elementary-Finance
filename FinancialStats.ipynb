{
 "cells": [
  {
   "cell_type": "code",
   "execution_count": 1,
   "metadata": {},
   "outputs": [],
   "source": [
    "#This is a collection of statistical functions that I will need.\n",
    "import numpy as np\n",
    "from math import log\n",
    "from math import exp\n",
    "from math import pi\n",
    "#This function will take several lists and trim them to the same length outputting as a list of arrays. This will be important when\n",
    "#calculating covariance\n",
    "def Trim(*args):\n",
    "    L=len(args)\n",
    "    Min=len(args[0])\n",
    "    for i in range(1,L):\n",
    "        Min=min(Min,len(args[i]))\n",
    "    I=[0]*L\n",
    "    for i in range(L):\n",
    "        I[i]=args[i][:Min]\n",
    "        \n",
    "    return I"
   ]
  },
  {
   "cell_type": "code",
   "execution_count": 2,
   "metadata": {},
   "outputs": [],
   "source": [
    "#We now create a function that will take some lists and produce a numpy array of their means.\n",
    "def Means(*args):\n",
    "    #We first trim all the data to be the same length.\n",
    "    A=Trim(*args)\n",
    "    N=len(A[0])\n",
    "    Means=np.zeros(len(args))\n",
    "    for i in range(len(args)):\n",
    "        Means[i]=sum(A[i])/N\n",
    "    return Means"
   ]
  },
  {
   "cell_type": "code",
   "execution_count": 3,
   "metadata": {},
   "outputs": [],
   "source": [
    "#We now define the covariance function of two lists\n",
    "def Covar(A,B):\n",
    "    #First trim all the data\n",
    "    C=Trim(A,B)\n",
    "    N=len(C[0])\n",
    "    if N>1:\n",
    "        M=Means(A,B)\n",
    "        Sum=0\n",
    "    \n",
    "        for i in range(N):\n",
    "            Sum=Sum+(C[0][i]-M[0])*(C[1][i]-M[1])\n",
    "        Sum=Sum/(N-1)\n",
    "        return Sum\n",
    "    else:\n",
    "        print(\"Can not calculate the covariance of 1 bit of data.\")\n"
   ]
  },
  {
   "cell_type": "code",
   "execution_count": 4,
   "metadata": {},
   "outputs": [],
   "source": [
    "#We now create the sigma covariance matrix.\n",
    "def Sigma(*args):\n",
    "    l=len(args)\n",
    "    Sig=np.zeros((l,l))\n",
    "    for i in range(l):\n",
    "        for j in range(i,l):\n",
    "            Sig[i,j]=Covar(args[i],args[j])\n",
    "            Sig[j,i]=Covar(args[j],args[i])\n",
    "    return Sig"
   ]
  },
  {
   "cell_type": "code",
   "execution_count": 5,
   "metadata": {},
   "outputs": [],
   "source": [
    "#The following an inverse cumulative normal function calculator.\n",
    "a_0=2.50662823884\n",
    "a_1=-18.61500062529\n",
    "a_2=41.39119773534\n",
    "a_3=-25.44106049637\n",
    "b_0=-8.47350193090\n",
    "b_1=23.08336743743\n",
    "b_2=-21.06224101826\n",
    "b_3=3.13082909833\n",
    "\n",
    "c_0=0.3374754822726147\n",
    "c_1=0.9761690190917186\n",
    "c_2=0.1607979714918209\n",
    "c_3=0.0276438810333863\n",
    "c_4=0.0038405729373609\n",
    "c_5=0.0003951896511919\n",
    "c_6=0.0000321767881768\n",
    "c_7=0.0000002888167364\n",
    "c_8=0.0000003960315187\n",
    "\n",
    "def ICNF(x):\n",
    "    #Computes the inverse cumulative normal function of x for x in (0,1).\n",
    "    #Comes fomr B.2.1 in Joshi's concepts and practices of mathematical finance.\n",
    "    if x<1 and x>0:\n",
    "        y=x-0.5\n",
    "        if abs(y)<0.42:\n",
    "            r=y**2\n",
    "            A=(y*(a_0+a_1*r+a_2*r**2+a_3*r**3))/(b_0*r+b_1*r**2+b_2*r**3+b_3*r**4+1.0)\n",
    "            return A\n",
    "        \n",
    "        if abs(y)>=0.42:\n",
    "            if y<0:\n",
    "                r=x\n",
    "            if y>=0:\n",
    "                r=1-x\n",
    "        \n",
    "        \n",
    "            s=log(-log(r))\n",
    "            t=c_0*s**0+c_1*s**1+c_2*s**2+c_3*s**3+c_4*s**4+c_5*s**5+c_6*s**6+c_7*s**7+c_8*s**8\n",
    "            #page 417 says the s should be r, but this is a typo.\n",
    "            if x>0.5:\n",
    "                return t\n",
    "            else:\n",
    "                return -t\n",
    "        \n",
    "    else:\n",
    "        print(\"Undefined\")"
   ]
  },
  {
   "cell_type": "code",
   "execution_count": 6,
   "metadata": {},
   "outputs": [],
   "source": [
    "#We now define a computative form of the cumulative normal function taken from page 417 of Joshi.\n",
    "\n",
    "\n",
    "def LHCNF(x):\n",
    "    #This computes the left hand side of the normal function\n",
    "    if x>0:\n",
    "        k=1/(1+0.2316419*x)\n",
    "        \n",
    "        N=1-(1/(2*pi)**0.5)*exp(-x*x/2)*k*(0.319371530+k*(-0.356563782+k*(1.781477937+k*(-1.821255978+1.330274429*k))))\n",
    "        return N\n",
    "    if x==0:\n",
    "        return 1/2\n",
    "    else:\n",
    "        return print(\"Undefined\")\n",
    "    \n",
    "def NCF(x):\n",
    "    #For any real x this gives N(x)\n",
    "    if x>=0:\n",
    "        return LHCNF(x)\n",
    "    if x<0:\n",
    "        return 1-LHCNF(-x)"
   ]
  },
  {
   "cell_type": "code",
   "execution_count": null,
   "metadata": {},
   "outputs": [],
   "source": []
  }
 ],
 "metadata": {
  "kernelspec": {
   "display_name": "Python 3",
   "language": "python",
   "name": "python3"
  },
  "language_info": {
   "codemirror_mode": {
    "name": "ipython",
    "version": 3
   },
   "file_extension": ".py",
   "mimetype": "text/x-python",
   "name": "python",
   "nbconvert_exporter": "python",
   "pygments_lexer": "ipython3",
   "version": "3.7.1"
  }
 },
 "nbformat": 4,
 "nbformat_minor": 2
}
