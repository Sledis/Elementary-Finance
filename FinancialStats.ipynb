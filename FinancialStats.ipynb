{
 "cells": [
  {
   "cell_type": "code",
   "execution_count": 36,
   "metadata": {},
   "outputs": [],
   "source": [
    "#This is a collection of statistical functions that I will need.\n",
    "import numpy as np\n",
    "#This function will take several lists and trim them to the same length outputting as a list of arrays. This will be important when\n",
    "#calculating covariance\n",
    "def Trim(*args):\n",
    "    L=len(args)\n",
    "    Min=len(args[0])\n",
    "    for i in range(1,L):\n",
    "        Min=min(Min,len(args[i]))\n",
    "    I=[0]*L\n",
    "    for i in range(L):\n",
    "        I[i]=args[i][:Min]\n",
    "        \n",
    "    return I"
   ]
  },
  {
   "cell_type": "code",
   "execution_count": 37,
   "metadata": {},
   "outputs": [],
   "source": [
    "#We now create a function that will take some lists and produce a numpy array of their means.\n",
    "def Means(*args):\n",
    "    #We first trim all the data to be the same length.\n",
    "    A=Trim(*args)\n",
    "    N=len(A[0])\n",
    "    Means=np.zeros(len(args))\n",
    "    for i in range(len(args)):\n",
    "        Means[i]=sum(A[i])/N\n",
    "    return Means"
   ]
  },
  {
   "cell_type": "code",
   "execution_count": 38,
   "metadata": {},
   "outputs": [],
   "source": [
    "#We now define the covariance function of two lists\n",
    "def Covar(A,B):\n",
    "    #First trim all the data\n",
    "    C=Trim(A,B)\n",
    "    N=len(C[0])\n",
    "    if N>1:\n",
    "        M=Means(A,B)\n",
    "        Sum=0\n",
    "    \n",
    "        for i in range(N):\n",
    "            Sum=Sum+(C[0][i]-M[0])*(C[1][i]-M[1])\n",
    "        Sum=Sum/(N-1)\n",
    "        return Sum\n",
    "    else:\n",
    "        print(\"Can not calculate the covariance of 1 bit of data.\")\n"
   ]
  },
  {
   "cell_type": "code",
   "execution_count": 39,
   "metadata": {},
   "outputs": [],
   "source": [
    "#We now create the sigma covariance matrix.\n",
    "def Sigma(*args):\n",
    "    l=len(args)\n",
    "    Sig=np.zeros((l,l))\n",
    "    for i in range(l):\n",
    "        for j in range(i,l):\n",
    "            Sig[i,j]=Covar(args[i],args[j])\n",
    "            Sig[j,i]=Covar(args[j],args[i])\n",
    "    return Sig"
   ]
  },
  {
   "cell_type": "code",
   "execution_count": null,
   "metadata": {},
   "outputs": [],
   "source": []
  }
 ],
 "metadata": {
  "kernelspec": {
   "display_name": "Python 3",
   "language": "python",
   "name": "python3"
  },
  "language_info": {
   "codemirror_mode": {
    "name": "ipython",
    "version": 3
   },
   "file_extension": ".py",
   "mimetype": "text/x-python",
   "name": "python",
   "nbconvert_exporter": "python",
   "pygments_lexer": "ipython3",
   "version": "3.7.1"
  }
 },
 "nbformat": 4,
 "nbformat_minor": 2
}
