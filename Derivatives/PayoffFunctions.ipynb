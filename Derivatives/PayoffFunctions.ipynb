{
 "cells": [
  {
   "cell_type": "code",
   "execution_count": 2,
   "metadata": {},
   "outputs": [
    {
     "data": {
      "text/plain": [
       "0"
      ]
     },
     "execution_count": 2,
     "metadata": {},
     "output_type": "execute_result"
    }
   ],
   "source": [
    "#This is a collection of all the payoff functions we will need. Seperating them out will be more relevant\n",
    "#when we get to monte carlo for non-vanilla options.\n",
    "\n",
    "def EuropeanCallPayoff(x,K):\n",
    "    #The pay off of a European call of stock finishing at x with a strike of K.\n",
    "    if x>K:\n",
    "        return x-K\n",
    "    else:\n",
    "        return 0\n",
    "EuropeanCallPayoff(90,100)"
   ]
  },
  {
   "cell_type": "code",
   "execution_count": 6,
   "metadata": {},
   "outputs": [
    {
     "data": {
      "text/plain": [
       "0"
      ]
     },
     "execution_count": 6,
     "metadata": {},
     "output_type": "execute_result"
    }
   ],
   "source": [
    "def EuropeanPutPayoff(x,K):\n",
    "    #The pay off of a European call of stock finishing at x with a strike of K.\n",
    "    if x<K:\n",
    "        return -x+K\n",
    "    else:\n",
    "        return 0\n"
   ]
  },
  {
   "cell_type": "code",
   "execution_count": 2,
   "metadata": {},
   "outputs": [
    {
     "data": {
      "text/plain": [
       "0"
      ]
     },
     "execution_count": 2,
     "metadata": {},
     "output_type": "execute_result"
    }
   ],
   "source": [
    "def DigitalCallPayoff(x,K):\n",
    "    #The pay off of a Digital call of a stock finishing at x with a strike of K.\n",
    "    if x>K:\n",
    "        return 1\n",
    "    else:\n",
    "        return 0\n",
    "DigitalCallPayoff(90,100)"
   ]
  },
  {
   "cell_type": "code",
   "execution_count": 4,
   "metadata": {},
   "outputs": [
    {
     "data": {
      "text/plain": [
       "1"
      ]
     },
     "execution_count": 4,
     "metadata": {},
     "output_type": "execute_result"
    }
   ],
   "source": [
    "def DigitalPutPayoff(x,K):\n",
    "    #The pay off of a Digital put of a stock finishing at x with a strike of K.\n",
    "    if x<K:\n",
    "        return 1\n",
    "    else:\n",
    "        return 0\n",
    "DigitalPutPayoff(80,90)"
   ]
  },
  {
   "cell_type": "code",
   "execution_count": null,
   "metadata": {},
   "outputs": [],
   "source": []
  }
 ],
 "metadata": {
  "kernelspec": {
   "display_name": "Python 3",
   "language": "python",
   "name": "python3"
  },
  "language_info": {
   "codemirror_mode": {
    "name": "ipython",
    "version": 3
   },
   "file_extension": ".py",
   "mimetype": "text/x-python",
   "name": "python",
   "nbconvert_exporter": "python",
   "pygments_lexer": "ipython3",
   "version": "3.7.1"
  }
 },
 "nbformat": 4,
 "nbformat_minor": 2
}
