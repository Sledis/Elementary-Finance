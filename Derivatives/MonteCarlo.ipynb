{
 "cells": [
  {
   "cell_type": "code",
   "execution_count": 11,
   "metadata": {},
   "outputs": [],
   "source": [
    "import random\n",
    "import sys\n",
    "from math import exp\n",
    "sys.path.insert(0, 'D:\\My Documents\\GitHub\\Elementary-Finance')\n",
    "from FinancialStats import ICNF\n",
    "from PayoffFunctions import EuropeanCallPayoff as ECP\n",
    "from PayoffFunctions import EuropeanPutPayoff as EPP\n",
    "from PayoffFunctions import DigitalCallPayoff as DCP\n",
    "from PayoffFunctions import DigitalPutPayoff as DPP\n",
    "\n",
    "def RandomVector(l,**kwargs):\n",
    "    #creates a vector of length l with each element being a random draw from a distribution. \n",
    "    #It has two keyword args, Seed to set the seed otherwise set at 0, and Dist, we shall assume\n",
    "    #a normal distribution is required unless specified, currfently only normal and unf are available.\n",
    "    \n",
    "    random.seed(0)\n",
    "    I=[0]*l\n",
    "    if \"Seed\" in kwargs:\n",
    "        random.seed(kwargs[\"Seed\"])\n",
    "    for i in range(l):\n",
    "        if \"Dist\" in kwargs:\n",
    "            if kwargs[\"Dist\"]==\"Unif\":\n",
    "                I[i]=random.random()\n",
    "            else:\n",
    "                return print(\"Distribution is not valid.\")\n",
    "        else:\n",
    "            I[i]=ICNF(random.random())\n",
    "    return I\n"
   ]
  },
  {
   "cell_type": "code",
   "execution_count": 12,
   "metadata": {},
   "outputs": [],
   "source": [
    "def StockEvolver(Share,WS,T,l,**kwargs):\n",
    "    #Takes a Share vector, a worldstate, a length of time T and number of samples l and produces a list of \n",
    "    #l possible share values in the future at time T B.21 of Joshi.\n",
    "    r=WS[0]\n",
    "    d=Share[1]\n",
    "    S=Share[0]\n",
    "    Vol=Share[3]\n",
    "    R=RandomVector(l,**kwargs)\n",
    "    I=[0]*l\n",
    "    for i in range(l):\n",
    "        I[i]=S*exp((r-d)*T-0.5*Vol**2*T+Vol*T**0.5*R[i])\n",
    "    return I\n",
    "\n"
   ]
  },
  {
   "cell_type": "code",
   "execution_count": 13,
   "metadata": {},
   "outputs": [],
   "source": [
    "def MonteCarloPricer(O,WS,l,**kwargs):\n",
    "    #Takes our evolved stock list (of one time step), computes the payoff function on it, then averages the result.\n",
    "    SList=StockEvolver(O[1],WS,O[2],l,**kwargs)\n",
    "    Type=O[0]\n",
    "    I=[\"Not defined\"]*l\n",
    "    for i in range(l):\n",
    "        I[i]=Type[1](SList[i],O[3])\n",
    "    return sum(I)/l"
   ]
  },
  {
   "cell_type": "code",
   "execution_count": 14,
   "metadata": {},
   "outputs": [
    {
     "data": {
      "text/plain": [
       "0.520287"
      ]
     },
     "execution_count": 14,
     "metadata": {},
     "output_type": "execute_result"
    }
   ],
   "source": []
  },
  {
   "cell_type": "code",
   "execution_count": null,
   "metadata": {},
   "outputs": [],
   "source": []
  }
 ],
 "metadata": {
  "kernelspec": {
   "display_name": "Python 3",
   "language": "python",
   "name": "python3"
  },
  "language_info": {
   "codemirror_mode": {
    "name": "ipython",
    "version": 3
   },
   "file_extension": ".py",
   "mimetype": "text/x-python",
   "name": "python",
   "nbconvert_exporter": "python",
   "pygments_lexer": "ipython3",
   "version": "3.7.1"
  }
 },
 "nbformat": 4,
 "nbformat_minor": 2
}
