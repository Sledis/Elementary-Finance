{
 "cells": [
  {
   "cell_type": "code",
   "execution_count": 2,
   "metadata": {},
   "outputs": [],
   "source": [
    "#This will contain several derivative pricing functions for the most elementary of options, ie European\n",
    "#and digital options.\n",
    "#Our shares will be expressed in a 4d vector Share=[Current Price,Derivative,Drift,Vol]. It's worth noting\n",
    "#here that we will not need drift, but in later programs for more complicated options drift will play a role.\n",
    "#Our options will be of the form O=[Type,Share,Time,Strike].\n",
    "#Our functions will then be functions on two variables, O and WS, WS being the world state, ie the cc interest rate.\n",
    "from math import exp\n",
    "from math import pi\n",
    "from math import log\n",
    "import sys\n",
    "sys.path.insert(0, 'D:\\My Documents\\GitHub\\Elementary-Finance')\n",
    "from FinancialStats import NCF\n",
    "\n",
    "#We start with the forward price of a share as given by page 25 of Joshi.\n",
    "def BSF(O,WS):\n",
    "    r=WS[0]\n",
    "    T=O[2]\n",
    "    d=O[1][1]\n",
    "    S=O[1][0]\n",
    "    K=O[3]\n",
    "    return exp(-r*T)*(exp((r-d)*T)*S-K)"
   ]
  },
  {
   "cell_type": "code",
   "execution_count": 3,
   "metadata": {},
   "outputs": [],
   "source": [
    "#We first define the Black Scholes European call function as given by the formula\n",
    "def BSC(O,WS):\n",
    "    r=WS[0]\n",
    "    T=O[2]\n",
    "    d=O[1][1]\n",
    "    S=O[1][0]\n",
    "    Vol=O[1][3]\n",
    "    K=O[3]\n",
    "    #formula of the black sholes price of a European call option given by the formula\n",
    "    if S/K>0 and Vol*T**0.5!=0:\n",
    "        d_1=(log(S/K)+(r-d+0.5*Vol**2)*(T))/(Vol*T**0.5)\n",
    "        d_2=(log(S/K)+(r-d-0.5*Vol**2)*(T))/(Vol*T**0.5)\n",
    "        C=S*exp(-d*T)*NCF(d_1)-K*exp(-r*T)*NCF(d_2)\n",
    "    else:\n",
    "        return print(\"Undefined\")\n",
    "    return C"
   ]
  },
  {
   "cell_type": "code",
   "execution_count": 4,
   "metadata": {},
   "outputs": [],
   "source": [
    "#Now, the Black Scholes European put.\n",
    "def BSP(O,WS):\n",
    "    r=WS[0]\n",
    "    T=O[2]\n",
    "    d=O[1][1]\n",
    "    S=O[1][0]\n",
    "    Vol=O[1][3]\n",
    "    K=O[3]\n",
    "    if K/S>0 and Vol*T**0.5!=0:\n",
    "        d_1=(log(K/S)+(-r+d+0.5*Vol**2)*(T))/(Vol*T**0.5)\n",
    "        d_2=d_1-Vol*T**0.5\n",
    "        C=-S*exp(-d*T)*NCF(d_2)+K*exp(-r*T)*NCF(d_1)\n",
    "    else:\n",
    "        return print(\"Undefined\")\n",
    "    return C"
   ]
  },
  {
   "cell_type": "code",
   "execution_count": 5,
   "metadata": {},
   "outputs": [],
   "source": [
    "#We now check that these functions are working properly by using the put-call parity theorem.\n",
    "def BSCheck(O,WS):\n",
    "    if type(BSC(O,WS)) is float and type(BSP(O,WS)) is float and type(BSF(O,WS)) is float:\n",
    "        return BSC(O,WS)-BSP(O,WS)-BSF(O,WS)\n",
    "    else:\n",
    "        return print(\"Undefined\")\n"
   ]
  },
  {
   "cell_type": "code",
   "execution_count": 6,
   "metadata": {},
   "outputs": [],
   "source": [
    "#We now define the Digital Call option\n",
    "def DC(O,WS):\n",
    "    r=WS[0]\n",
    "    T=O[2]\n",
    "    d=O[1][1]\n",
    "    S=O[1][0]\n",
    "    Vol=O[1][3]\n",
    "    K=O[3]\n",
    "    if K/S>0 and Vol*T**0.5!=0:\n",
    "        d=(log(K/S)-(r-d-0.5*Vol**2)*T)/(Vol*T**0.5)\n",
    "    else:\n",
    "        return print(\"Undefined\")\n",
    "    return exp(-r*T)*NCF(-d)\n",
    "    \n",
    "    \n"
   ]
  },
  {
   "cell_type": "code",
   "execution_count": 7,
   "metadata": {},
   "outputs": [],
   "source": [
    "#We now define the Digital Put option\n",
    "def DP(O,WS):\n",
    "    r=WS[0]\n",
    "    T=O[2]\n",
    "    d=O[1][1]\n",
    "    S=O[1][0]\n",
    "    Vol=O[1][3]\n",
    "    K=O[3]\n",
    "    if K/S>0 and Vol*T**0.5!=0:\n",
    "        d=(log(K/S)-(r-d-0.5*Vol**2)*T)/(Vol*T**0.5)\n",
    "    \n",
    "    else:\n",
    "        return print(\"Undefined\")\n",
    "    return exp(-r*T)*NCF(d)\n"
   ]
  },
  {
   "cell_type": "code",
   "execution_count": 8,
   "metadata": {},
   "outputs": [],
   "source": [
    "#We now define the zero coupon bond, so that we can check the digitals using put call parity\n",
    "def ZCB(O,WS):\n",
    "    r=WS[0]\n",
    "    T=O[2]\n",
    "    return exp(-r*T)\n",
    "#The check function for digital options based on put call parity.\n",
    "\n",
    "def DCheck(O,WS):\n",
    "    if type(DP(O,WS)) is float and type(DC(O,WS)) is float and type(ZCB(O,WS)) is float:\n",
    "        return DP(O,WS)+DC(O,WS)-ZCB(O,WS)\n",
    "    else:\n",
    "        return print(\"Undefined\")\n"
   ]
  },
  {
   "cell_type": "code",
   "execution_count": 9,
   "metadata": {},
   "outputs": [],
   "source": [
    "#We now define a big calling function. Type will also be a vector of the form Type=[Name,pay off function,*args]\n",
    "\n",
    "def BlackScholes(O,WS):\n",
    "    if O[0][0]=='EC':\n",
    "        return BSC(O,WS)\n",
    "    elif O[0][0]=='EP':\n",
    "        return BSP(O,WS)\n",
    "    elif O[0][0]=='F':\n",
    "        return BSF(O,WS)\n",
    "    elif O[0][0]=='DC':\n",
    "        return DC(O,WS)\n",
    "    elif O[0][0]=='DP':\n",
    "        return DP(O,WS)\n",
    "    elif O[0][0]=='ZCB':\n",
    "        return ZCB(O,WS)\n",
    "    else:\n",
    "        return print(\"Not currently defined for that option.\")\n",
    "    \n"
   ]
  },
  {
   "cell_type": "code",
   "execution_count": 10,
   "metadata": {},
   "outputs": [],
   "source": [
    "#We now define a function that can take a black scholes option, world state, a greek and a step length\n",
    "#then output the option and world state that would satisfy that greek and step length.\n",
    "def Greek(O,WS,G,step):\n",
    "    NewOption=[0]*4\n",
    "    \n",
    "    if G==\"Delta\":\n",
    "        NewOption[0]=O[0]\n",
    "        NewOption[1]=[O[1][0]+step,O[1][1],O[1][2],O[1][3]]\n",
    "        NewOption[2]=O[2]\n",
    "        NewOption[3]=O[3]\n",
    "        \n",
    "        return [NewOption,WS]\n",
    "    \n",
    "    elif G==\"Vega\":\n",
    "        NewOption[0]=O[0]\n",
    "        NewOption[1]=[O[1][0],O[1][1],O[1][2],O[1][3]+step]\n",
    "        NewOption[2]=O[2]\n",
    "        NewOption[3]=O[3]\n",
    "        \n",
    "        return [NewOption,WS]\n",
    "    \n",
    "    elif G==\"Rho\":\n",
    "        return [O,[WS[0]+step]]\n",
    "    \n",
    "    elif G==\"Theta\":\n",
    "        NewOption[0]=O[0]\n",
    "        NewOption[1]=O[1]\n",
    "        NewOption[2]=O[2]+step\n",
    "        NewOption[3]=O[3]\n",
    "        return [NewOption,WS]\n",
    "        \n",
    "\n"
   ]
  },
  {
   "cell_type": "code",
   "execution_count": 11,
   "metadata": {},
   "outputs": [],
   "source": [
    "def BlackScholesGreeks(O,WS,G,step):\n",
    "    #We now combine our greek program and our formula program to produce the greeks by approximation.\n",
    "    if G in [\"Delta\",\"Vega\",\"Rho\"]:\n",
    "        return (BlackScholes(*Greek(O,WS,G,step))-BlackScholes(O,WS))/step\n",
    "    elif G==\"Theta\":\n",
    "        return -(BlackScholes(*Greek(O,WS,G,step))-BlackScholes(O,WS))/step\n",
    "    elif G==\"Gamma\":\n",
    "        return (BlackScholes(*Greek(O,WS,\"Delta\",step))-2*BlackScholes(O,WS)+BlackScholes(*Greek(O,WS,\"Delta\",-step)))/step**2\n",
    "        \n",
    "        \n",
    "    else:\n",
    "        return print(\"Not defined for that Greek.\")\n",
    "    "
   ]
  },
  {
   "cell_type": "code",
   "execution_count": 12,
   "metadata": {},
   "outputs": [],
   "source": [
    "\n",
    "def BSDelta(O,WS):\n",
    "    r=WS[0]\n",
    "    T=O[2]\n",
    "    d=O[1][1]\n",
    "    S=O[1][0]\n",
    "    Vol=O[1][3]\n",
    "    K=O[3]\n",
    "    if O[0][0]==\"EC\":\n",
    "        #formula for the delta of a European call option given by the formula\n",
    "        \n",
    "        d_1=(log(S/K)+(r-d+0.5*Vol**2)*(T))/(Vol*T**0.5)\n",
    "        d_2=(log(S/K)+(r-d-0.5*Vol**2)*(T))/(Vol*T**0.5)\n",
    "        return exp(-d*T)*NCF(d_1)+(1/(S*Vol*(T*2*pi)**0.5))*(exp(-d*T-(d_1**2)/2)*S-K*exp(-r*T-(d_2**2)/2))\n",
    "    else:\n",
    "        return print(\"Not defined for that option\")"
   ]
  },
  {
   "cell_type": "code",
   "execution_count": 13,
   "metadata": {},
   "outputs": [],
   "source": [
    "def BSVega(O,WS):\n",
    "    #Calculates the vega of a European call option from formula\n",
    "    r=WS[0]\n",
    "    T=O[2]\n",
    "    d=O[1][1]\n",
    "    S=O[1][0]\n",
    "    Vol=O[1][3]\n",
    "    K=O[3]\n",
    "    if O[0][0]==\"EC\":\n",
    "        \n",
    "        d_1=(log(S/K)+(r-d+0.5*Vol**2)*(T))/(Vol*T**0.5)\n",
    "        d_2=(log(S/K)+(r-d-0.5*Vol**2)*(T))/(Vol*T**0.5)\n",
    "        d_1vol=-(log(S/K)+r-d)/Vol**2+0.5*T**0.5\n",
    "        d_2vol=-(log(S/K)+r-d)/Vol**2-0.5*T**0.5\n",
    "        return (S*exp(-d*T-d_1**2/2)*d_1vol-K*exp(-r*T-d_2**2/2)*d_2vol)/(2*pi)**0.5\n",
    "    else:\n",
    "        return print(\"Not defined for that option\")"
   ]
  },
  {
   "cell_type": "code",
   "execution_count": 14,
   "metadata": {},
   "outputs": [],
   "source": [
    "def BSRho(O,WS):\n",
    "    #Calculates the rho of a European call option from formula\n",
    "    r=WS[0]\n",
    "    T=O[2]\n",
    "    d=O[1][1]\n",
    "    S=O[1][0]\n",
    "    Vol=O[1][3]\n",
    "    K=O[3]\n",
    "    if O[0][0]==\"EC\":\n",
    "        \n",
    "        d_1=(log(S/K)+(r-d+0.5*Vol**2)*(T))/(Vol*T**0.5)\n",
    "        d_2=(log(S/K)+(r-d-0.5*Vol**2)*(T))/(Vol*T**0.5)\n",
    "        A=S*exp(-d*T-d_1**2/2)*T**0.5/(Vol*(2*pi)**0.5)\n",
    "        B=-K*exp(-r*T)*(-T*NCF(d_2)+exp(-d_2**2/2)*T**0.5/(Vol*(2*pi)**0.5))\n",
    "        return A+B\n",
    "    else:\n",
    "        return print(\"Not defined for that option\")"
   ]
  },
  {
   "cell_type": "code",
   "execution_count": 18,
   "metadata": {},
   "outputs": [
    {
     "data": {
      "text/plain": [
       "0.5199428128595538"
      ]
     },
     "execution_count": 18,
     "metadata": {},
     "output_type": "execute_result"
    }
   ],
   "source": [
    "S=[100,0,0,0.1]\n",
    "WS=[0]\n",
    "T=1\n",
    "\n",
    "\n",
    "Type=[\"DP\"]\n",
    "Option=[Type,S,1,100]\n",
    "BlackScholes(Option,WS)"
   ]
  },
  {
   "cell_type": "code",
   "execution_count": null,
   "metadata": {},
   "outputs": [],
   "source": []
  }
 ],
 "metadata": {
  "kernelspec": {
   "display_name": "Python 3",
   "language": "python",
   "name": "python3"
  },
  "language_info": {
   "codemirror_mode": {
    "name": "ipython",
    "version": 3
   },
   "file_extension": ".py",
   "mimetype": "text/x-python",
   "name": "python",
   "nbconvert_exporter": "python",
   "pygments_lexer": "ipython3",
   "version": "3.7.1"
  }
 },
 "nbformat": 4,
 "nbformat_minor": 2
}
