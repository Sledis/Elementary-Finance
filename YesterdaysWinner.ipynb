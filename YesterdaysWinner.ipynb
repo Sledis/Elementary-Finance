{
 "cells": [
  {
   "cell_type": "code",
   "execution_count": 35,
   "metadata": {},
   "outputs": [],
   "source": [
    "#This will implement a trading strategy applied at the open every morning. It will sell all its portfollio and use that money\n",
    "#to exclusively buy the share that performed best yesterday. You always bet on yesterdays winner. It will be run everynight afterclose\n",
    "\n",
    "from DataCollector import CurrentPrice\n",
    "from DataCollector import LastClosePrice\n",
    "from HolidayLogic import BanksOpen\n",
    "from HolidayLogic import UK2019\n",
    "import datetime\n",
    "import numpy as np\n",
    "\n",
    "import gspread\n",
    "from oauth2client.service_account import ServiceAccountCredentials\n",
    "import json\n",
    "\n",
    "def Winner(*args):\n",
    "    #This function will look at all the urls given, determine which one performed the best today, then output an array\n",
    "    #with zeros in all the \"underperforming\" stocks and the current price of that stock.\n",
    "    l=len(args)\n",
    "    Max=-1\n",
    "    #Any negative value works here.\n",
    "    J=0\n",
    "    for i in range(l):\n",
    "        change=CurrentPrice(args[i][0],args[i][1])/LastClosePrice(args[i][0],args[i][1])\n",
    "        \n",
    "        if change>Max:\n",
    "            Max=change\n",
    "            J=i\n",
    "    Portfollio=np.zeros(l)\n",
    "    Portfollio[J]=CurrentPrice(args[J][0],args[J][1])\n",
    "    return Portfollio\n",
    "\n",
    "\n"
   ]
  },
  {
   "cell_type": "code",
   "execution_count": 36,
   "metadata": {},
   "outputs": [],
   "source": [
    "#We now define a function that will calculate how much money we have at the end of the day\n",
    "def PortfollioValue(*args):\n",
    "    #This function returns the current value of all holdings.\n",
    "    l=len(args)\n",
    "    Prices=np.zeros(l+1)\n",
    "    for i in range(l):\n",
    "        Prices[i]=float(CurrentPrice(args[i][0],args[i][1]))\n",
    "    Prices[l]=1\n",
    "    col_len = len(ws.col_values(1))\n",
    "    vect=np.array(ws.row_values(col_len)[1:l+2])\n",
    "    Amount=[float(i) for i in vect]\n",
    "    Cash=np.dot(Prices,Amount)\n",
    "    return Cash\n"
   ]
  },
  {
   "cell_type": "code",
   "execution_count": 37,
   "metadata": {},
   "outputs": [],
   "source": [
    "def NewPortfollio(*args):\n",
    "    #With the above functions we now know how much money we have, what we need to buy and the price, so we easily derive tomorrows portfollio\n",
    "    P=PortfollioValue(*args)\n",
    "    W=Winner(*args)\n",
    "    Portfollio=np.zeros(len(args))\n",
    "    for i in range(len(args)):\n",
    "        if W[i]!=0:\n",
    "            Portfollio[i]=P/W[i]\n",
    "    return Portfollio\n"
   ]
  },
  {
   "cell_type": "code",
   "execution_count": 38,
   "metadata": {},
   "outputs": [],
   "source": [
    "#We now combine these to update the spreadsheet\n",
    "\n",
    "def SheetUpdate(*args):\n",
    "    #We first start by checking that tomorrow's values haven't already been caluclated. As this is a one trade per day strat.\n",
    "    #Otherwise it will just add another row to the spreadsheet.\n",
    "    col_len = len(ws.col_values(1))\n",
    "    tomorrow =  datetime.date.today() + datetime.timedelta(days=1)\n",
    "    l=len(args)\n",
    "    \n",
    "    if ws.cell(col_len,1).value==tomorrow.strftime(\"%d/%m/%Y\"):\n",
    "        #If tomorrows value has already been calculated, delete it and recalculate\n",
    "        #This allows, for example, us to test during the day and then when it properly evaluates at the end of the day,\n",
    "        #it will over-write our test (incorrect data).\n",
    "        ws.delete_row(col_len)\n",
    "        col_len = len(ws.col_values(1))\n",
    "\n",
    "        \n",
    "    if BanksOpen(UK2019,tomorrow)==1:        \n",
    "        A=NewPortfollio(*args)\n",
    "        ValueAtClose=PortfollioValue(*args)\n",
    "        #here we have calculated the portfollio that we should buy at the begining of trading the next day, and the value that \n",
    "        #We get from selling our current portfollio.\n",
    "        ws.update_cell(col_len,l+3,ValueAtClose)\n",
    "    \n",
    "\n",
    "        \n",
    "        B = [tomorrow.strftime(\"%d/%m/%Y\")]\n",
    "        B.extend(A)\n",
    "        B.extend([0])\n",
    "        ws.insert_row(B, col_len+1)\n"
   ]
  },
  {
   "cell_type": "code",
   "execution_count": 39,
   "metadata": {},
   "outputs": [],
   "source": [
    "#I now pick the following 4 stocks of the big 4 british banks.\n",
    "a=[\"https://uk.finance.yahoo.com/quote/BARC.L?p=BARC.L\",'p']\n",
    "b=[\"https://uk.finance.yahoo.com/quote/HSBA.L?p=HSBA.L\",'p']\n",
    "c=[\"https://uk.finance.yahoo.com/quote/LLOY.L?p=LLOY.L\",'p']\n",
    "d=[\"https://uk.finance.yahoo.com/quote/RBS.L?p=RBS.L\",'p']"
   ]
  },
  {
   "cell_type": "code",
   "execution_count": 40,
   "metadata": {},
   "outputs": [],
   "source": [
    "#This block of code initalizes the code accessing the google sheet of historic trades and cash value\n",
    "\n",
    "scope = ['https://spreadsheets.google.com/feeds','https://www.googleapis.com/auth/drive']\n",
    "creds = ServiceAccountCredentials.from_json_keyfile_name('client_secret.json', scope)\n",
    "client = gspread.authorize(creds)\n",
    "\n",
    "ss = client.open('YesterdaysWinner')\n",
    "ws = ss.worksheet(\"Sheet1\")"
   ]
  },
  {
   "cell_type": "code",
   "execution_count": 41,
   "metadata": {},
   "outputs": [
    {
     "data": {
      "text/plain": [
       "array([ 0.  , 43.29,  0.  ,  0.  ])"
      ]
     },
     "execution_count": 41,
     "metadata": {},
     "output_type": "execute_result"
    }
   ],
   "source": [
    "SheetUpdate(a,b,c,d)"
   ]
  },
  {
   "cell_type": "code",
   "execution_count": null,
   "metadata": {},
   "outputs": [],
   "source": []
  }
 ],
 "metadata": {
  "kernelspec": {
   "display_name": "Python 3",
   "language": "python",
   "name": "python3"
  },
  "language_info": {
   "codemirror_mode": {
    "name": "ipython",
    "version": 3
   },
   "file_extension": ".py",
   "mimetype": "text/x-python",
   "name": "python",
   "nbconvert_exporter": "python",
   "pygments_lexer": "ipython3",
   "version": "3.7.1"
  }
 },
 "nbformat": 4,
 "nbformat_minor": 2
}
