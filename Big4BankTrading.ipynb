{
 "cells": [
  {
   "cell_type": "code",
   "execution_count": 10,
   "metadata": {},
   "outputs": [],
   "source": [
    "#This program is going to update a spreadsheet with 4 share holdings.\n",
    "#At the close of each day it will evaluate which share grew the most that day.\n",
    "#It will then calculate how much money we have, given the current share price, at the open tomorrow.\n",
    "#It will then add to the spreadsheet how much we should buy of the largest growing share\n",
    "#This uses the terrible and completely amateurish startegy of selling everything we have, to buy the highest growing yesterday with all the money we have.\n",
    "\n",
    "from lxml import html\n",
    "import requests\n",
    "import datetime\n",
    "import numpy as np\n",
    "\n",
    "#We define the following program that will tell us if the following day is a day that banks are open.\n",
    "\n",
    "def TradeOpenTomorrow():\n",
    "    #This program determines in banks are open to trade tomorrow in 2019.\n",
    "    # It returns 0 if banks are closed tomorrow. And 1 if they are open.\n",
    "    #It does this by checking if tomorrow is a weekend or a bank holiday.\n",
    "    tomorrow =  datetime.date.today() + datetime.timedelta(days=1)\n",
    "    d1 = tomorrow.strftime(\"%d/%m/%Y\")\n",
    "    wkday=tomorrow.weekday()\n",
    "    BHol2019=[\"01/01/2019\",\"17/03/2019\",\"19/04/2019\",\"22/04/2019\",\"06/05/2019\",\"27/05/2019\",\"12/07/2019\",\"26/08/2019\",\"25/12/2019\",\"26/12/2019\"]\n",
    "    if wkday in [5,6]:\n",
    "        return 0\n",
    "    elif d1 in BHol2019:\n",
    "        return 0\n",
    "    else:\n",
    "        return 1\n",
    "\n"
   ]
  },
  {
   "cell_type": "code",
   "execution_count": 11,
   "metadata": {},
   "outputs": [],
   "source": [
    "#We now collect all of the financial information from MorningStar that we need.\n",
    "\n",
    "#First collect Barclays info\n",
    "pageB = requests.get('http://tools.morningstar.co.uk/uk/stockreport/default.aspx?Site=uk&id=0P00007NZP&LanguageId=en-GB&SecurityToken=0P00007NZP]3]0]E0WWE$$ALL')\n",
    "treeB = html.fromstring(pageB.content)\n",
    "NameB=treeB.xpath('//span[@class=\"securityName\"]/text()')[0]\n",
    "priceTodayB = treeB.xpath('//span[@class=\"price\"]/text()')[0]\n",
    "priceLastCloseB=treeB.xpath('//td[@id=\"Col0LastClose\"]/text()')[0]\n",
    "        \n",
    "#Now collect HSBC data\n",
    "pageH = requests.get('http://tools.morningstar.co.uk/uk/stockreport/default.aspx?Site=uk&id=0P00007OFH&LanguageId=en-GB&SecurityToken=0P00007OFH]3]0]E0WWE$$ALL')\n",
    "treeH = html.fromstring(pageH.content)\n",
    "NameH=treeH.xpath('//span[@class=\"securityName\"]/text()')[0]\n",
    "priceTodayH = treeH.xpath('//span[@class=\"price\"]/text()')[0]\n",
    "priceLastCloseH=treeH.xpath('//td[@id=\"Col0LastClose\"]/text()')[0]\n",
    "        \n",
    "#Now collect Lloyd's data\n",
    "pageL = requests.get('http://tools.morningstar.co.uk/uk/stockreport/default.aspx?Site=uk&id=0P000090RG&LanguageId=en-GB&SecurityToken=0P000090RG]3]0]E0WWE$$ALL')\n",
    "treeL = html.fromstring(pageL.content)\n",
    "NameL=treeL.xpath('//span[@class=\"securityName\"]/text()')[0]\n",
    "priceTodayL = treeL.xpath('//span[@class=\"price\"]/text()')[0]\n",
    "priceLastCloseL=treeL.xpath('//td[@id=\"Col0LastClose\"]/text()')[0]\n",
    "        \n",
    "#Now collect RBS data\n",
    "pageR = requests.get('http://tools.morningstar.co.uk/uk/stockreport/default.aspx?Site=uk&id=0P000090MW&LanguageId=en-GB&SecurityToken=0P000090MW]3]0]E0WWE$$ALL')\n",
    "treeR = html.fromstring(pageR.content)\n",
    "NameR=treeR.xpath('//span[@class=\"securityName\"]/text()')[0]\n",
    "priceTodayR = treeR.xpath('//span[@class=\"price\"]/text()')[0]\n",
    "priceLastCloseR=treeR.xpath('//td[@id=\"Col0LastClose\"]/text()')[0]\n",
    "        \n",
    "#Now that we have all the finanical info that we need. We calculate the percentage change in the last two closes\n",
    "#And the maximum change\n",
    "Bper=float(priceTodayB)/float(priceLastCloseB)\n",
    "Hper=float(priceTodayH)/float(priceLastCloseH)\n",
    "Lper=float(priceTodayL)/float(priceLastCloseL)\n",
    "Rper=float(priceTodayR)/float(priceLastCloseR)\n",
    "Per=[Bper,Hper,Lper,Rper]\n",
    "A=max(Per)"
   ]
  },
  {
   "cell_type": "code",
   "execution_count": 12,
   "metadata": {},
   "outputs": [],
   "source": [
    "#We now create a function that will tell us what shares to buy at market open the next day.\n",
    "#The output of the function will be a list of 0's and the stock price of the largest grower in a vector of length 4.\n",
    "#The companies have been ordered alphabetically and a 0 shall mean don't hold entirely that stock.\n",
    "def Portfollio():\n",
    "    #We first check if tomorrow is a trading day.\n",
    "    if TradeOpenTomorrow()==0:\n",
    "        return\n",
    "    else:\n",
    "        \n",
    "\n",
    "\n",
    "        #We now test which share gave the greatest change in the last trading day.\n",
    "        \n",
    "        \n",
    "        \n",
    "        if A==Bper:\n",
    "            I=[float(priceTodayB),0,0,0]\n",
    "        if A==Hper:\n",
    "            I=[0,float(priceTodayH),0,0]\n",
    "        if A==Lper:\n",
    "            I=[0,0,float(priceTodayL),0]\n",
    "        if A==Rper:\n",
    "            I=[0,0,0,float(priceTodayR)]\n",
    "        return I\n",
    "\n",
    " "
   ]
  },
  {
   "cell_type": "code",
   "execution_count": 13,
   "metadata": {},
   "outputs": [],
   "source": [
    "#We now initialize my sheet which contains the data of my previous portfollios in the form\n",
    "#date held, B shares, H shares, L shares, R shares, Cash , Cash equiv\n",
    "\n",
    "#This first block of code initalizes the code accessing the google sheet of historic trades and cash value\n",
    "import gspread\n",
    "from oauth2client.service_account import ServiceAccountCredentials\n",
    "import json\n",
    "scope = ['https://spreadsheets.google.com/feeds','https://www.googleapis.com/auth/drive']\n",
    "creds = ServiceAccountCredentials.from_json_keyfile_name('client_secret.json', scope)\n",
    "client = gspread.authorize(creds)\n",
    "\n",
    "ss = client.open('TradingBig4Banks')\n",
    "ws = ss.worksheet(\"Trading\")"
   ]
  },
  {
   "cell_type": "code",
   "execution_count": 14,
   "metadata": {},
   "outputs": [],
   "source": [
    "#We now define a function that will calculate how much money we have at the end of the day\n",
    "def PortfollioValue():\n",
    "    #This function returns the current value of all holdings.\n",
    "    TotShare=np.array([float(priceTodayB),float(priceTodayH),float(priceTodayL),float(priceTodayR),1])\n",
    "    col_len = len(ws.col_values(1))\n",
    "    vect=np.array(ws.row_values(col_len)[1:6])\n",
    "    Amount=[float(i) for i in vect]\n",
    "    Cash=np.dot(TotShare,Amount)\n",
    "    return Cash\n"
   ]
  },
  {
   "cell_type": "code",
   "execution_count": 15,
   "metadata": {},
   "outputs": [],
   "source": [
    "#We now define a function that can tell us what portfollio we should buy at the start of business tomorrow.\n",
    "def NewPortfollio():\n",
    "    #We first check if we can trade tomorrow.\n",
    "    if TradeOpenTomorrow()==1:\n",
    "        #Now we check to see how much cash we have\n",
    "        Cash=PortfollioValue()\n",
    "        #We now calculate the new portfollio\n",
    "        NP=[0,0,0,0,0]\n",
    "        A=Portfollio()\n",
    "        for i in range(len(A)):\n",
    "            if A[i]!=0:\n",
    "                NP[i]=Cash/A[i]\n",
    "        return NP\n",
    "            \n",
    "        \n",
    "        \n",
    "        \n",
    "    else:\n",
    "        return \"NA\"\n",
    "    \n"
   ]
  },
  {
   "cell_type": "code",
   "execution_count": 16,
   "metadata": {},
   "outputs": [],
   "source": [
    "#We now combine these to update the spreadsheet\n",
    "\n",
    "def SheetUpdate():\n",
    "    #We first start by checking that tomorrow's values haven't already been caluclated. As this is a one trade per day strat.\n",
    "    #Otherwise it will just add another row to the spreadsheet.\n",
    "    col_len = len(ws.col_values(1))\n",
    "    tomorrow =  datetime.date.today() + datetime.timedelta(days=1)\n",
    "    tomorrow=tomorrow.strftime(\"%d/%m/%Y\")\n",
    "    if ws.cell(col_len,1).value!=tomorrow:\n",
    "        A=NewPortfollio()\n",
    "        ValueAtClose=PortfollioValue()\n",
    "        #here we have calculated the portfollio that we should buy at the begining of trading the next day, and the value that \n",
    "        #We get from selling our current portfollio.\n",
    "        if A!= \"NA\":\n",
    "            B = [tomorrow]\n",
    "            B.extend(A)\n",
    "            B.extend([ValueAtClose])\n",
    "            ws.insert_row(B, col_len+1)\n",
    "\n",
    "    else:\n",
    "        return print(\"Only one trade allowed per day\")"
   ]
  },
  {
   "cell_type": "code",
   "execution_count": 17,
   "metadata": {},
   "outputs": [
    {
     "name": "stdout",
     "output_type": "stream",
     "text": [
      "Only one trade allowed per day\n",
      "Hello World\n"
     ]
    }
   ],
   "source": [
    "SheetUpdate()"
   ]
  },
  {
   "cell_type": "code",
   "execution_count": null,
   "metadata": {},
   "outputs": [],
   "source": []
  }
 ],
 "metadata": {
  "kernelspec": {
   "display_name": "Python 3",
   "language": "python",
   "name": "python3"
  },
  "language_info": {
   "codemirror_mode": {
    "name": "ipython",
    "version": 3
   },
   "file_extension": ".py",
   "mimetype": "text/x-python",
   "name": "python",
   "nbconvert_exporter": "python",
   "pygments_lexer": "ipython3",
   "version": "3.7.1"
  }
 },
 "nbformat": 4,
 "nbformat_minor": 2
}
